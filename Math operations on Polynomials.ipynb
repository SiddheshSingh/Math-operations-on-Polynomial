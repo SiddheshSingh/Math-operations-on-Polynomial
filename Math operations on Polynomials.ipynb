{
 "cells": [
  {
   "cell_type": "code",
   "execution_count": 1,
   "metadata": {},
   "outputs": [
    {
     "name": "stdout",
     "output_type": "stream",
     "text": [
      "Enter first polynomial\n",
      "x^2 + 2*x*y\n",
      "Enter the operators : -, + or *\n",
      "*\n",
      "Enter the second polynomial\n",
      "x*y*z + 3*z\n"
     ]
    }
   ],
   "source": [
    "print('Enter first polynomial')\n",
    "a = str(input())\n",
    "print('Enter the operators : -, + or *')\n",
    "op = str(input())\n",
    "print('Enter the second polynomial')\n",
    "b = str(input())"
   ]
  },
  {
   "cell_type": "code",
   "execution_count": 2,
   "metadata": {},
   "outputs": [
    {
     "name": "stdout",
     "output_type": "stream",
     "text": [
      "Test : Decoding 12*x^4*14*y^2*z^6 168xxxxyyzzzzzz\n",
      "Test : Checking for 12*x*y*z and 18*y*x*z True\n"
     ]
    }
   ],
   "source": [
    "def decode_term(term): # simplifies terms : eg x^2 * z  = x*x*z\n",
    "    tmp = \"\"\n",
    "    l = len(term)\n",
    "    counter = 0\n",
    "    is_previous_integer = 0 # flag becomes 1 if previous term was an integer\n",
    "    integral_val = 1 # all the integral terms are multiplied here\n",
    "    tmpstr = \"\" # temporarily contains integral value\n",
    "    while counter<l:\n",
    "        if is_previous_integer==1:\n",
    "            if str.isdigit(term[counter]):\n",
    "                tmpstr+=term[counter]\n",
    "            else: \n",
    "                is_previous_integer=0\n",
    "                integral_val*=int(tmpstr)\n",
    "                tmpstr=''\n",
    "            counter+=1\n",
    "            continue                \n",
    "        if term[counter] == '*': \n",
    "            counter+=1\n",
    "            continue\n",
    "        if term[counter] == '^':\n",
    "            counter+=1\n",
    "            split = ''\n",
    "            for j in range(1,int(term[counter])):\n",
    "                tmp+=term[counter-2]\n",
    "            counter+=1\n",
    "        else: \n",
    "            if str.isdigit(term[counter]):\n",
    "                tmpstr=term[counter]\n",
    "                is_previous_integer = 1\n",
    "            else:\n",
    "                tmp+=term[counter]\n",
    "            counter+=1\n",
    "    return str(integral_val)+tmp\n",
    "# example :\n",
    "print('Test : Decoding 12*x^4*14*y^2*z^6',decode_term('12*x^4*14*y^2*z^6'))\n",
    "\n",
    "def is_same(x,y): # checks if 2 unit of polynomials are same (so that both can be added)\n",
    "    blank= ''\n",
    "    x_decoded = sorted(decode_term(x))\n",
    "    y_decoded = sorted(decode_term(y))\n",
    "    l_x = len(x_decoded)\n",
    "    l_y = len(y_decoded)\n",
    "    # removing integer digits\n",
    "    for i in range(l_x):\n",
    "        if not str.isdigit(x_decoded[i]):\n",
    "            x_decoded = x_decoded[i:]\n",
    "            break\n",
    "    for i in range(l_y):\n",
    "        if not str.isdigit(y_decoded[i]):\n",
    "            y_decoded = y_decoded[i:]\n",
    "            break\n",
    "    return x_decoded==y_decoded\n",
    "print(\"Test : Checking for 12*x*y*z and 18*y*x*z\",is_same('12*x*y*z','18*y*x*z'))"
   ]
  },
  {
   "cell_type": "code",
   "execution_count": 3,
   "metadata": {},
   "outputs": [
    {
     "name": "stdout",
     "output_type": "stream",
     "text": [
      "Test subtracting: 15*a*b*c, a*6*c*b, -:  9abc\n",
      "Test multiplying: 2*a^2*b^2, 2*b*a*z 4aaabbbz\n"
     ]
    }
   ],
   "source": [
    "def addsub_term(x,y,op): # a and b are passed after checking that variables are same\n",
    "                        # and they can be added\n",
    "    x_decoded = sorted(decode_term(x))\n",
    "    y_decoded = sorted(decode_term(y))\n",
    "    l_x = len(x_decoded)\n",
    "    l_y = len(y_decoded)\n",
    "    digit1,digit2 = '',''\n",
    "    # extracting integer digits\n",
    "    for i in range(l_x):\n",
    "        if not str.isdigit(x_decoded[i]):\n",
    "            x_decoded = x_decoded[i:] # polynomial without integral term\n",
    "            break\n",
    "        else:\n",
    "            digit1+= x_decoded[i]\n",
    "    digit1 = int(digit1)\n",
    "    for i in range(l_y):\n",
    "        if not str.isdigit(y_decoded[i]):\n",
    "            break\n",
    "        else:\n",
    "            digit2+= y_decoded[i]\n",
    "    digit2 = int(digit2)\n",
    "    sum_digit = 0\n",
    "    if op=='+': sum_digit=digit1+digit2\n",
    "    elif op=='-': sum_digit=digit1-digit2\n",
    "    if sum_digit==0: return '0'\n",
    "    return str(sum_digit)+\"\".join(x_decoded)\n",
    "print(\"Test subtracting: 15*a*b*c, a*6*c*b, -: \",addsub_term('15*a*b*c','a*6*c*b','-'))\n",
    "\n",
    "def multiply_term(a,b):\n",
    "    return \"\".join(sorted(decode_term(a+b)))\n",
    "\n",
    "print(\"Test multiplying: 2*a^2*b^2, 2*b*a*z\",multiply_term('2*a^2*b^2','2*b*a*z'))"
   ]
  },
  {
   "cell_type": "code",
   "execution_count": 4,
   "metadata": {},
   "outputs": [],
   "source": [
    "def invert(op): #returns - for + and + for -\n",
    "    if op=='+': return '-'\n",
    "    else: return '+'\n",
    "def addsub(x,y,op):\n",
    "    x_lis = x.split(' ')\n",
    "    y_lis = y.split(' ')\n",
    "    if op=='-':\n",
    "        for i in range(1,len(y_lis),2): y_lis[i] = invert(y_lis[i])\n",
    "    result_lis = x_lis\n",
    "    result_lis.append(op)\n",
    "    for i in y_lis:result_lis.append(i)\n",
    "    for i in range(0,len(result_lis),2):\n",
    "        if result_lis[i]=='':continue\n",
    "        for j in range(i+2,len(result_lis),2):\n",
    "            if result_lis[j]=='':continue\n",
    "            if is_same(result_lis[i],result_lis[j]):\n",
    "                result_lis[i] = addsub_term(result_lis[i],result_lis[j],result_lis[j-1])\n",
    "                result_lis[j]=''\n",
    "                result_lis[j-1] = ''\n",
    "    # making list a string\n",
    "    result = ''\n",
    "    for i in range(0,len(result_lis)):\n",
    "        cur = result_lis[i]\n",
    "        l = len(cur)\n",
    "        if l>0 and not l==1:\n",
    "            if cur[0]=='-':\n",
    "                cur=cur[1:]\n",
    "                result=result[:-1]\n",
    "                result+='-'\n",
    "        if cur=='0':\n",
    "            result=result[:-1]\n",
    "            cur=''\n",
    "        result+=cur\n",
    "            \n",
    "    return result\n"
   ]
  },
  {
   "cell_type": "code",
   "execution_count": 5,
   "metadata": {},
   "outputs": [
    {
     "data": {
      "text/plain": [
       "'x^2+2*x*y-x*y*z-3*z'"
      ]
     },
     "execution_count": 5,
     "metadata": {},
     "output_type": "execute_result"
    }
   ],
   "source": [
    "addsub(a,b,'-')"
   ]
  },
  {
   "cell_type": "code",
   "execution_count": 6,
   "metadata": {},
   "outputs": [
    {
     "data": {
      "text/plain": [
       "'2xx-x*y'"
      ]
     },
     "execution_count": 6,
     "metadata": {},
     "output_type": "execute_result"
    }
   ],
   "source": [
    "addsub('x^2','x*y - x^2','-')"
   ]
  },
  {
   "cell_type": "code",
   "execution_count": 7,
   "metadata": {},
   "outputs": [],
   "source": [
    "def shorten(x): # xxx -> x^3\n",
    "    num= ''\n",
    "    for i in range(len(x)):\n",
    "        if str.isdigit(x[i]):num+=x[i]\n",
    "        else:break\n",
    "    l = len(num)\n",
    "    x=x[l:] # removing digits from x\n",
    "    curindex = 0\n",
    "    u = []\n",
    "    for i in x: \n",
    "        if not i in u: u.append(i)\n",
    "    tempcount = 0\n",
    "    current_count = [0]*len(u)\n",
    "    for i in x:\n",
    "        if not i==u[curindex]: curindex+=1\n",
    "        current_count[curindex] +=1\n",
    "    for i in range(0,len(u)):\n",
    "        if current_count[i]==1: num+=('*'+u[i])\n",
    "        else: num+=('*'+u[i]+'^'+str(current_count[i]))\n",
    "    if num[0]=='*': return num[1:]\n",
    "    else: return num"
   ]
  },
  {
   "cell_type": "code",
   "execution_count": 8,
   "metadata": {},
   "outputs": [
    {
     "data": {
      "text/plain": [
       "'15*x^2*a*b*y*z'"
      ]
     },
     "execution_count": 8,
     "metadata": {},
     "output_type": "execute_result"
    }
   ],
   "source": [
    "shorten('15xxabyz')"
   ]
  },
  {
   "cell_type": "code",
   "execution_count": 9,
   "metadata": {},
   "outputs": [],
   "source": [
    "def getSign(a,b):\n",
    "    if a=='+':\n",
    "        if b=='+':return '+'\n",
    "        else: return '-'\n",
    "    else:\n",
    "        if b=='+':return '-'\n",
    "        else: return '+'\n",
    "\n",
    "def multiply(a,b):\n",
    "    ans = []\n",
    "    x = a.split(' ')\n",
    "    y = b.split(' ')\n",
    "    x_sign,y_sign = '+','+'\n",
    "    for i in x:\n",
    "        if i=='+' or i=='-':\n",
    "            x_sign=i\n",
    "            continue\n",
    "        for j in y: \n",
    "            if j=='+' or j=='-':\n",
    "                y_sign=j\n",
    "                continue\n",
    "            ans.append(getSign(x_sign,y_sign))\n",
    "            term = shorten(multiply_term(i,j))\n",
    "            ans.append(term)\n",
    "    return \"\".join(ans)[1:]"
   ]
  },
  {
   "cell_type": "code",
   "execution_count": 10,
   "metadata": {},
   "outputs": [
    {
     "name": "stdout",
     "output_type": "stream",
     "text": [
      "Operation : ( x^2 + 2*x*y )  *  ( x*y*z + 3*z )\n",
      "Result is:  1*x^3*y*z+3*x^2*z+2*x^2*y^2*z+6*x*y*z\n"
     ]
    }
   ],
   "source": [
    "print('Operation : (',a,') ',op,' (',b,')')\n",
    "if op=='*':\n",
    "    print('Result is: ',multiply(a,b))\n",
    "elif op=='+' or op=='-':\n",
    "    print('Result is: ',addsub(a,b,op))\n",
    "else:print('Unknown operator')"
   ]
  }
 ],
 "metadata": {
  "kernelspec": {
   "display_name": "Python 3",
   "language": "python",
   "name": "python3"
  },
  "language_info": {
   "codemirror_mode": {
    "name": "ipython",
    "version": 3
   },
   "file_extension": ".py",
   "mimetype": "text/x-python",
   "name": "python",
   "nbconvert_exporter": "python",
   "pygments_lexer": "ipython3",
   "version": "3.7.3"
  }
 },
 "nbformat": 4,
 "nbformat_minor": 2
}
